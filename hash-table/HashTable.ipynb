{
 "cells": [
  {
   "cell_type": "markdown",
   "metadata": {},
   "source": [
    "# Hash Table"
   ]
  },
  {
   "cell_type": "markdown",
   "metadata": {},
   "source": [
    "As we know, Python's `dict` is a hash-table."
   ]
  },
  {
   "cell_type": "markdown",
   "metadata": {},
   "source": [
    "From Python wiki:\n",
    "\n",
    "> Python's dictionary implementation reduces the average complexity of dictionary lookups to O(1) by requiring that key objects provide a \"hash\" function\n",
    "\n",
    "But it's always possible to create your own hash table in Python. Here's example of very basic hash table which has only insert and search functions."
   ]
  },
  {
   "cell_type": "code",
   "execution_count": 1,
   "metadata": {},
   "outputs": [],
   "source": [
    "class HashTable:\n",
    "    def __init__(self, capacity):\n",
    "        self.capacity = capacity\n",
    "        self.slots = [None] * self.capacity\n",
    "        self.count = 0\n",
    "\n",
    "    def __str__(self):\n",
    "        return str(self.slots)\n",
    "\n",
    "    def __contains__(self, item):\n",
    "        return self.search(item) != -1\n",
    "\n",
    "    def __len__(self):\n",
    "        return self.count\n",
    "\n",
    "    def hash_function(self, key):\n",
    "        return hash(key) % self.capacity\n",
    "\n",
    "    def find_slot(self, key):\n",
    "        slot = self.hash_function(key)\n",
    "        while self.slots[slot] is not None and self.slots[slot] != key:\n",
    "            slot = (slot + 1) % self.capacity\n",
    "        return slot\n",
    "\n",
    "    def insert(self, key):\n",
    "        slot = self.find_slot(key)\n",
    "        if self.slots[slot] != key:\n",
    "            self.slots[slot] = key\n",
    "            self.count += 1\n",
    "\n",
    "    def search(self, key):\n",
    "        i = self.find_slot(key)\n",
    "        if self.slots[i] is not None:  \n",
    "            return i\n",
    "        return -1"
   ]
  },
  {
   "cell_type": "markdown",
   "metadata": {},
   "source": [
    "### More examples"
   ]
  },
  {
   "cell_type": "markdown",
   "metadata": {},
   "source": [
    "[Python Fiddle](http://pythonfiddle.com/implementing-a-python-hash-table/)"
   ]
  },
  {
   "cell_type": "markdown",
   "metadata": {},
   "source": [
    "[Github](https://github.com/calebmadrigal/algorithms-in-python/blob/master/hashtable.py)"
   ]
  }
 ],
 "metadata": {
  "kernelspec": {
   "display_name": "Python 3",
   "language": "python",
   "name": "python3"
  },
  "language_info": {
   "codemirror_mode": {
    "name": "ipython",
    "version": 3
   },
   "file_extension": ".py",
   "mimetype": "text/x-python",
   "name": "python",
   "nbconvert_exporter": "python",
   "pygments_lexer": "ipython3",
   "version": "3.5.3"
  }
 },
 "nbformat": 4,
 "nbformat_minor": 2
}
